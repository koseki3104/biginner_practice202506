{
  "nbformat": 4,
  "nbformat_minor": 0,
  "metadata": {
    "colab": {
      "provenance": [],
      "name": "医療費予測.ipynb",
      "authorship_tag": "ABX9TyMjI1YUOqQno/X84mAXXEex",
      "include_colab_link": true
    },
    "kernelspec": {
      "name": "python3",
      "display_name": "Python 3"
    },
    "language_info": {
      "name": "python"
    }
  },
  "cells": [
    {
      "cell_type": "markdown",
      "metadata": {
        "id": "view-in-github",
        "colab_type": "text"
      },
      "source": [
        "<a href=\"https://colab.research.google.com/github/koseki3104/biginner_practice202506/blob/main/%E5%8C%BB%E7%99%82%E8%B2%BB%E4%BA%88%E6%B8%AC.ipynb\" target=\"_parent\"><img src=\"https://colab.research.google.com/assets/colab-badge.svg\" alt=\"Open In Colab\"/></a>"
      ]
    },
    {
      "cell_type": "code",
      "execution_count": 2,
      "metadata": {
        "colab": {
          "base_uri": "https://localhost:8080/"
        },
        "id": "grNuyIhNjw5c",
        "outputId": "3ef4096a-b42e-411b-8baf-46d406a67c36"
      },
      "outputs": [
        {
          "output_type": "stream",
          "name": "stdout",
          "text": [
            "Mounted at /content/drive\n"
          ]
        }
      ],
      "source": [
        "from google.colab import drive\n",
        "drive.mount('/content/drive')"
      ]
    },
    {
      "cell_type": "markdown",
      "source": [],
      "metadata": {
        "id": "L7ZDOe1a0RrK"
      }
    },
    {
      "cell_type": "code",
      "source": [
        "import os\n",
        "os.chdir('/content/drive/MyDrive/SIGNATE/【2025.06】医療保険の費用帯予測')\n"
      ],
      "metadata": {
        "id": "CRU1G5aNkPYQ"
      },
      "execution_count": 3,
      "outputs": []
    },
    {
      "cell_type": "code",
      "source": [
        "import pandas as pd\n",
        "test = pd.read_csv(\"test.csv\")\n",
        "train = pd.read_csv('train.csv')"
      ],
      "metadata": {
        "id": "nlQd-g-AkgCN"
      },
      "execution_count": 4,
      "outputs": []
    },
    {
      "cell_type": "code",
      "source": [
        "#基本情報\n",
        "print(train.info())\n",
        "print(train.isnull().sum())\n",
        "print(train.describe())"
      ],
      "metadata": {
        "id": "qJs-QUp-7RGp",
        "outputId": "7d2ad656-3f5b-4d31-d968-77ffbaa763e1",
        "colab": {
          "base_uri": "https://localhost:8080/"
        }
      },
      "execution_count": 9,
      "outputs": [
        {
          "output_type": "stream",
          "name": "stdout",
          "text": [
            "<class 'pandas.core.frame.DataFrame'>\n",
            "RangeIndex: 1600 entries, 0 to 1599\n",
            "Data columns (total 8 columns):\n",
            " #   Column    Non-Null Count  Dtype  \n",
            "---  ------    --------------  -----  \n",
            " 0   id        1600 non-null   int64  \n",
            " 1   age       1600 non-null   int64  \n",
            " 2   sex       1600 non-null   object \n",
            " 3   bmi       1600 non-null   float64\n",
            " 4   children  1600 non-null   int64  \n",
            " 5   smoker    1600 non-null   object \n",
            " 6   region    1600 non-null   object \n",
            " 7   charges   1600 non-null   int64  \n",
            "dtypes: float64(1), int64(4), object(3)\n",
            "memory usage: 100.1+ KB\n",
            "None\n",
            "id          0\n",
            "age         0\n",
            "sex         0\n",
            "bmi         0\n",
            "children    0\n",
            "smoker      0\n",
            "region      0\n",
            "charges     0\n",
            "dtype: int64\n",
            "               id          age          bmi     children      charges\n",
            "count  1600.00000  1600.000000  1600.000000  1600.000000  1600.000000\n",
            "mean   1007.86250    38.985000    32.424376     1.014375     0.306250\n",
            "std     575.26841    13.555012     5.766915     1.259031     0.628656\n",
            "min       0.00000    18.000000    20.627626     0.000000     0.000000\n",
            "25%     515.75000    27.000000    28.634267     0.000000     0.000000\n",
            "50%    1010.50000    40.000000    32.268786     1.000000     0.000000\n",
            "75%    1509.25000    50.000000    37.069581     2.000000     0.000000\n",
            "max    1999.00000    64.000000    47.290644     5.000000     2.000000\n"
          ]
        }
      ]
    },
    {
      "cell_type": "code",
      "source": [
        "#相関行列\n",
        "train_df = train.select_dtypes(include=['int64', 'float64'])\n",
        "correlation_matrix = train_df.corr()\n",
        "print(correlation_matrix)"
      ],
      "metadata": {
        "id": "8aFgQmWf7SI9",
        "outputId": "56d2c675-c7dd-487a-9ba4-716bed8119b7",
        "colab": {
          "base_uri": "https://localhost:8080/"
        }
      },
      "execution_count": 8,
      "outputs": [
        {
          "output_type": "stream",
          "name": "stdout",
          "text": [
            "                id       age       bmi  children   charges\n",
            "id        1.000000  0.005803  0.039221  0.012440  0.013463\n",
            "age       0.005803  1.000000  0.019885  0.011519  0.102112\n",
            "bmi       0.039221  0.019885  1.000000  0.083677  0.171282\n",
            "children  0.012440  0.011519  0.083677  1.000000  0.026830\n",
            "charges   0.013463  0.102112  0.171282  0.026830  1.000000\n"
          ]
        }
      ]
    },
    {
      "cell_type": "code",
      "source": [
        "import matplotlib.pyplot as plt\n",
        "\n",
        "# ヒストグラムの描画\n",
        "plt.hist(train['charges'], bins=30, edgecolor='black')\n",
        "plt.title('Distribution of Charges')\n",
        "plt.xlabel('Charges')\n",
        "plt.ylabel('Frequency')\n",
        "plt.grid(True)\n",
        "plt.show()"
      ],
      "metadata": {
        "id": "gbCWpnaIPbWz",
        "outputId": "efca6376-730b-45e2-e43a-b776f3318d5b",
        "colab": {
          "base_uri": "https://localhost:8080/",
          "height": 472
        }
      },
      "execution_count": 9,
      "outputs": [
        {
          "output_type": "display_data",
          "data": {
            "text/plain": [
              "<Figure size 640x480 with 1 Axes>"
            ],
            "image/png": "[encoded data removed]"
          },
          "metadata": {}
        }
      ]
    }
  ]
}