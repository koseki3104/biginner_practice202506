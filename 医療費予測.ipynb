{
  "nbformat": 4,
  "nbformat_minor": 0,
  "metadata": {
    "colab": {
      "provenance": [],
      "name": "医療費予測.ipynb",
      "authorship_tag": "ABX9TyMmdK5wnFLwDh5gocnN9esk",
      "include_colab_link": true
    },
    "kernelspec": {
      "name": "python3",
      "display_name": "Python 3"
    },
    "language_info": {
      "name": "python"
    }
  },
  "cells": [
    {
      "cell_type": "markdown",
      "metadata": {
        "id": "view-in-github",
        "colab_type": "text"
      },
      "source": [
        "<a href=\"https://colab.research.google.com/github/koseki3104/biginner_practice202506/blob/main/%E5%8C%BB%E7%99%82%E8%B2%BB%E4%BA%88%E6%B8%AC.ipynb\" target=\"_parent\"><img src=\"https://colab.research.google.com/assets/colab-badge.svg\" alt=\"Open In Colab\"/></a>"
      ]
    },
    {
      "cell_type": "code",
      "execution_count": null,
      "metadata": {
        "colab": {
          "base_uri": "https://localhost:8080/"
        },
        "id": "grNuyIhNjw5c",
        "outputId": "f132b3c5-2d19-425b-ce19-3840245c1ec2"
      },
      "outputs": [
        {
          "output_type": "stream",
          "name": "stdout",
          "text": [
            "Mounted at /content/drive\n"
          ]
        }
      ],
      "source": [
        "from google.colab import drive\n",
        "drive.mount('/content/drive')"
      ]
    },
    {
      "cell_type": "markdown",
      "source": [],
      "metadata": {
        "id": "L7ZDOe1a0RrK"
      }
    },
    {
      "cell_type": "code",
      "source": [
        "import os\n",
        "os.chdir('/content/drive/MyDrive/SIGNATE/【2025.06】医療保険の費用帯予測')\n"
      ],
      "metadata": {
        "id": "CRU1G5aNkPYQ"
      },
      "execution_count": null,
      "outputs": []
    },
    {
      "cell_type": "code",
      "source": [
        "import pandas as pd\n",
        "test = pd.read_csv(\"test.csv\")\n",
        "print(test.info())\n",
        "train = pd.read_csv('train.csv')\n",
        "print(train.info())"
      ],
      "metadata": {
        "colab": {
          "base_uri": "https://localhost:8080/"
        },
        "id": "nlQd-g-AkgCN",
        "outputId": "4fb0a8d5-8b5d-4e16-98f4-6d44a71d1953"
      },
      "execution_count": null,
      "outputs": [
        {
          "output_type": "stream",
          "name": "stdout",
          "text": [
            "<class 'pandas.core.frame.DataFrame'>\n",
            "RangeIndex: 400 entries, 0 to 399\n",
            "Data columns (total 7 columns):\n",
            " #   Column    Non-Null Count  Dtype  \n",
            "---  ------    --------------  -----  \n",
            " 0   id        400 non-null    int64  \n",
            " 1   age       400 non-null    int64  \n",
            " 2   sex       400 non-null    object \n",
            " 3   bmi       400 non-null    float64\n",
            " 4   children  400 non-null    int64  \n",
            " 5   smoker    400 non-null    object \n",
            " 6   region    400 non-null    object \n",
            "dtypes: float64(1), int64(3), object(3)\n",
            "memory usage: 22.0+ KB\n",
            "None\n",
            "<class 'pandas.core.frame.DataFrame'>\n",
            "RangeIndex: 1600 entries, 0 to 1599\n",
            "Data columns (total 8 columns):\n",
            " #   Column    Non-Null Count  Dtype  \n",
            "---  ------    --------------  -----  \n",
            " 0   id        1600 non-null   int64  \n",
            " 1   age       1600 non-null   int64  \n",
            " 2   sex       1600 non-null   object \n",
            " 3   bmi       1600 non-null   float64\n",
            " 4   children  1600 non-null   int64  \n",
            " 5   smoker    1600 non-null   object \n",
            " 6   region    1600 non-null   object \n",
            " 7   charges   1600 non-null   int64  \n",
            "dtypes: float64(1), int64(4), object(3)\n",
            "memory usage: 100.1+ KB\n",
            "None\n"
          ]
        }
      ]
    }
  ]
}